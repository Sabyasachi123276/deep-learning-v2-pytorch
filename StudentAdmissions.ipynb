{
  "nbformat": 4,
  "nbformat_minor": 0,
  "metadata": {
    "colab": {
      "name": "Untitled0.ipynb",
      "version": "0.3.2",
      "provenance": [],
      "collapsed_sections": [],
      "include_colab_link": true
    },
    "kernelspec": {
      "name": "python3",
      "display_name": "Python 3"
    }
  },
  "cells": [
    {
      "cell_type": "markdown",
      "metadata": {
        "id": "view-in-github",
        "colab_type": "text"
      },
      "source": [
        "<a href=\"https://colab.research.google.com/github/Sabyasachi123276/deep-learning-v2-pytorch/blob/master/StudentAdmissions.ipynb\" target=\"_parent\"><img src=\"https://colab.research.google.com/assets/colab-badge.svg\" alt=\"Open In Colab\"/></a>"
      ]
    },
    {
      "cell_type": "code",
      "metadata": {
        "id": "RiJPsAg7Qw_x",
        "colab_type": "code",
        "outputId": "01cbfaa6-4f61-467e-bb3e-0bb1bdfaffee",
        "colab": {
          "base_uri": "https://localhost:8080/",
          "height": 129
        }
      },
      "source": [
        "import tensorflow as tf\n",
        "\n",
        "x = tf.constant([3, 5, 7])\n",
        "y = tf.constant([1, 2, 3])\n",
        "z1 = tf.add(x,y)\n",
        "z2 = x * y\n",
        "z3 = z2 - z1\n",
        "\n",
        "with tf.Session() as sess: \n",
        "  a1, a3 = \n",
        "  print z.eval()\n",
        "  "
      ],
      "execution_count": 0,
      "outputs": [
        {
          "output_type": "error",
          "ename": "SyntaxError",
          "evalue": "ignored",
          "traceback": [
            "\u001b[0;36m  File \u001b[0;32m\"<ipython-input-8-81bd914a4f94>\"\u001b[0;36m, line \u001b[0;32m8\u001b[0m\n\u001b[0;31m    print z.eval()\u001b[0m\n\u001b[0m          ^\u001b[0m\n\u001b[0;31mSyntaxError\u001b[0m\u001b[0;31m:\u001b[0m invalid syntax\n"
          ]
        }
      ]
    },
    {
      "cell_type": "code",
      "metadata": {
        "id": "ghyGZG0ul9cJ",
        "colab_type": "code",
        "colab": {}
      },
      "source": [
        ""
      ],
      "execution_count": 0,
      "outputs": []
    }
  ]
}